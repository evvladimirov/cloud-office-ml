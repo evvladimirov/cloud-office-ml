{
 "cells": [
  {
   "cell_type": "markdown",
   "id": "736d99cc",
   "metadata": {},
   "source": [
    "# Office cloud task for Google Cloud ML Setup and Deployment\n",
    "\n",
    "This notebook sets up the necessary Google Cloud Platform (GCP) services for machine learning deployment. It configures:\n",
    "\n",
    "- **Google Cloud Storage (GCS)** - For storing model artifacts and data\n",
    "- **Google Cloud AI Platform** - For model training and deployment\n",
    "- **BigQuery** - For data storage and analysis\n",
    "- **Project configuration** - Sets up the GCP project and region\n",
    "\n",
    "The setup process includes creating a storage bucket and initializing the AI Platform with the necessary credentials and configurations."
   ]
  },
  {
   "cell_type": "code",
   "execution_count": 1,
   "id": "f0ef89af",
   "metadata": {},
   "outputs": [],
   "source": [
    "# Import required libraries for Google Cloud ML services\n",
    "# These libraries provide access to GCP's machine learning and data services\n",
    "\n",
    "from google.cloud import aiplatform  # For model training and deployment\n",
    "from google.cloud import storage     # For cloud storage operations\n",
    "from google.cloud import bigquery    # For data warehouse operations\n",
    "\n",
    "import pandas as pd                  # For data manipulation"
   ]
  },
  {
   "cell_type": "code",
   "execution_count": 2,
   "id": "c818d4bf",
   "metadata": {},
   "outputs": [],
   "source": [
    "# Configure GCP project settings\n",
    "# This cell sets up the basic configuration for your GCP project\n",
    "\n",
    "# Get the current GCP project ID from gcloud CLI\n",
    "project = !gcloud config get-value project\n",
    "PROJECT_ID = project[0]\n",
    "\n",
    "# Set the region for AI Platform services (us-central1 is cost-effective)\n",
    "LOCATION = 'us-central1'\n",
    "\n",
    "# Define the storage bucket name for storing model artifacts\n",
    "BUCKET = 'cloud-office-ml-bucket'"
   ]
  },
  {
   "cell_type": "code",
   "execution_count": 3,
   "id": "d6c75310",
   "metadata": {},
   "outputs": [],
   "source": [
    "# Initialize Google Cloud service clients\n",
    "# These clients will be used to interact with GCS and BigQuery services\n",
    "\n",
    "gcs = storage.Client(project = PROJECT_ID)  # Google Cloud Storage client\n",
    "bq = bigquery.Client(project = PROJECT_ID)  # BigQuery client for data operations"
   ]
  },
  {
   "cell_type": "code",
   "execution_count": 4,
   "id": "b1fb1f7b",
   "metadata": {},
   "outputs": [
    {
     "name": "stdout",
     "output_type": "stream",
     "text": [
      "Bucket already exist: cloud-office-ml-bucket\n"
     ]
    }
   ],
   "source": [
    "# Create or verify Google Cloud Storage bucket\n",
    "# This bucket will store model artifacts, training data, and other ML assets\n",
    "\n",
    "if not gcs.lookup_bucket(BUCKET):\n",
    "    # Create new bucket if it doesn't exist\n",
    "    bucketDef = gcs.bucket(BUCKET)\n",
    "    bucket = gcs.create_bucket(bucketDef, project=PROJECT_ID, location=LOCATION)\n",
    "    print(f'Created Bucket: {gcs.lookup_bucket(BUCKET).name}')\n",
    "else:\n",
    "    # Use existing bucket if it already exists\n",
    "    bucket = gcs.bucket(BUCKET)\n",
    "    print(f'Bucket already exist: {bucket.name}')"
   ]
  },
  {
   "cell_type": "code",
   "execution_count": 5,
   "id": "02112569",
   "metadata": {},
   "outputs": [],
   "source": [
    "# Create bucket URI for AI Platform configuration\n",
    "# This URI format is required by Google Cloud AI Platform services\n",
    "\n",
    "BUCKET_URI = f\"gs://{bucket.name}\""
   ]
  },
  {
   "cell_type": "code",
   "execution_count": 6,
   "id": "a3784f24",
   "metadata": {},
   "outputs": [],
   "source": [
    "# Initialize Google Cloud AI Platform\n",
    "# This sets up the AI Platform with your project settings and staging bucket\n",
    "# The staging bucket is where training artifacts and model files will be stored\n",
    "\n",
    "aiplatform.init(project=PROJECT_ID, location=LOCATION, staging_bucket=BUCKET_URI)"
   ]
  },
  {
   "cell_type": "code",
   "execution_count": 7,
   "id": "9f63ba7d",
   "metadata": {},
   "outputs": [],
   "source": [
    "MODEL_ARTIFACT_DIR = \"coml-artifact-dir\"\n",
    "REPOSITORY = \"coml-repository-name\"\n",
    "IMAGE = \"coml-image-name\"\n",
    "MODEL_DISPLAY_NAME = \"coml-model-display-name\"\n",
    "\n",
    "# Set the defaults if no names were specified\n",
    "if MODEL_ARTIFACT_DIR == \"[your-artifact-directory]\":\n",
    "    MODEL_ARTIFACT_DIR = \"custom-container-prediction-model\"\n",
    "\n",
    "if REPOSITORY == \"[your-repository-name]\":\n",
    "    REPOSITORY = \"custom-container-prediction\"\n",
    "\n",
    "if IMAGE == \"[your-image-name]\":\n",
    "    IMAGE = \"sklearn-fastapi-server\"\n",
    "\n",
    "if MODEL_DISPLAY_NAME == \"[your-model-display-name]\":\n",
    "    MODEL_DISPLAY_NAME = \"sklearn-custom-container\""
   ]
  },
  {
   "cell_type": "code",
   "execution_count": 8,
   "id": "ccaa01c5",
   "metadata": {},
   "outputs": [
    {
     "name": "stdout",
     "output_type": "stream",
     "text": [
      "mkdir: cannot create directory ‘app’: File exists\n"
     ]
    }
   ],
   "source": [
    "%mkdir app"
   ]
  },
  {
   "cell_type": "code",
   "execution_count": 9,
   "id": "13e068f8",
   "metadata": {},
   "outputs": [
    {
     "name": "stdout",
     "output_type": "stream",
     "text": [
      "Overwriting app/preprocess.py\n"
     ]
    }
   ],
   "source": [
    "%%writefile app/preprocess.py\n",
    "\n",
    "import pandas as pd\n",
    "\n",
    "class Preprocessor():\n",
    "    def __init__(self):\n",
    "        self.numerical = ['tenure', 'monthlycharges', 'totalcharges']\n",
    "        self.categorical = [\n",
    "            'gender',\n",
    "            'seniorcitizen',\n",
    "            'partner',\n",
    "            'dependents',\n",
    "            'phoneservice',\n",
    "            'multiplelines',\n",
    "            'internetservice',\n",
    "            'onlinesecurity',\n",
    "            'onlinebackup',\n",
    "            'deviceprotection',\n",
    "            'techsupport',\n",
    "            'streamingtv',\n",
    "            'streamingmovies',\n",
    "            'contract',\n",
    "            'paperlessbilling',\n",
    "            'paymentmethod',\n",
    "        ]\n",
    "\n",
    "    def preprocess(self, df: pd.DataFrame) -> pd.DataFrame:\n",
    "        \"\"\"\n",
    "        Preprocess the raw dataframe.\n",
    "        Args:\n",
    "            df_raw: Raw dataframe to preprocess.\n",
    "\n",
    "        Returns:\n",
    "            Preprocessed dataframe.\n",
    "        \"\"\"\n",
    "\n",
    "        df.columns = [col.lower().replace(' ', '_') for col in df.columns]\n",
    "        df = df[self.categorical + self.numerical + ['churn']]\n",
    "        df.churn = (df.churn == 'Yes').astype(int)\n",
    "\n",
    "        for col in df.columns:\n",
    "            if df[col].dtype == 'object':\n",
    "                df[col] = df[col].str.lower().str.replace(' ', '_')\n",
    "                \n",
    "        df.totalcharges = pd.to_numeric(df.totalcharges, errors='coerce')\n",
    "        df[self.numerical] = df[self.numerical].fillna(0)\n",
    "\n",
    "        return df"
   ]
  },
  {
   "cell_type": "code",
   "execution_count": 12,
   "id": "4796ffbd",
   "metadata": {},
   "outputs": [
    {
     "name": "stdout",
     "output_type": "stream",
     "text": [
      "/home/ev/cloud-office-ml/notebooks\n"
     ]
    }
   ],
   "source": [
    "%cd notebooks"
   ]
  },
  {
   "cell_type": "code",
   "execution_count": 14,
   "id": "f070cfd1",
   "metadata": {},
   "outputs": [
    {
     "name": "stderr",
     "output_type": "stream",
     "text": [
      "/home/ev/cloud-office-ml/notebooks/app/preprocess.py:38: SettingWithCopyWarning: \n",
      "A value is trying to be set on a copy of a slice from a DataFrame.\n",
      "Try using .loc[row_indexer,col_indexer] = value instead\n",
      "\n",
      "See the caveats in the documentation: https://pandas.pydata.org/pandas-docs/stable/user_guide/indexing.html#returning-a-view-versus-a-copy\n",
      "  df.churn = (df.churn == 'Yes').astype(int)\n",
      "/home/ev/cloud-office-ml/notebooks/app/preprocess.py:42: SettingWithCopyWarning: \n",
      "A value is trying to be set on a copy of a slice from a DataFrame.\n",
      "Try using .loc[row_indexer,col_indexer] = value instead\n",
      "\n",
      "See the caveats in the documentation: https://pandas.pydata.org/pandas-docs/stable/user_guide/indexing.html#returning-a-view-versus-a-copy\n",
      "  df[col] = df[col].str.lower().str.replace(' ', '_')\n",
      "/home/ev/cloud-office-ml/notebooks/app/preprocess.py:44: SettingWithCopyWarning: \n",
      "A value is trying to be set on a copy of a slice from a DataFrame.\n",
      "Try using .loc[row_indexer,col_indexer] = value instead\n",
      "\n",
      "See the caveats in the documentation: https://pandas.pydata.org/pandas-docs/stable/user_guide/indexing.html#returning-a-view-versus-a-copy\n",
      "  df.totalcharges = pd.to_numeric(df.totalcharges, errors='coerce')\n",
      "/home/ev/cloud-office-ml/notebooks/app/preprocess.py:45: SettingWithCopyWarning: \n",
      "A value is trying to be set on a copy of a slice from a DataFrame.\n",
      "Try using .loc[row_indexer,col_indexer] = value instead\n",
      "\n",
      "See the caveats in the documentation: https://pandas.pydata.org/pandas-docs/stable/user_guide/indexing.html#returning-a-view-versus-a-copy\n",
      "  df[self.numerical] = df[self.numerical].fillna(0)\n"
     ]
    }
   ],
   "source": [
    "import pickle\n",
    "\n",
    "import joblib\n",
    "from app.preprocess import Preprocessor\n",
    "from sklearn.feature_extraction import DictVectorizer\n",
    "from sklearn.linear_model import LogisticRegression\n",
    "\n",
    "dv = DictVectorizer()\n",
    "prp = Preprocessor()\n",
    "\n",
    "BUCKET = 'cloud-office-ml-bucket'\n",
    "\n",
    "df_raw = pd.read_csv(f'gs://{BUCKET}/WA_Fn-UseC_-Telco-Customer-Churn.csv')\n",
    "df_processed = prp.preprocess(df_raw)\n",
    "\n",
    "y_train = df_processed['churn']\n",
    "X_train = df_processed.drop('churn', axis=1)\n",
    "\n",
    "train_dict = X_train.to_dict(orient='records')\n",
    "X_train = dv.fit_transform(train_dict)\n",
    "\n",
    "model = LogisticRegression(solver='liblinear')\n",
    "model.fit(X_train, y_train)\n",
    "\n",
    "joblib.dump(model, \"model.joblib\")\n",
    "with open(\"preprocessor.pkl\", \"wb\") as f:\n",
    "    pickle.dump(prp, f)"
   ]
  },
  {
   "cell_type": "code",
   "execution_count": null,
   "id": "93ac1fd7",
   "metadata": {},
   "outputs": [],
   "source": []
  }
 ],
 "metadata": {
  "kernelspec": {
   "display_name": ".venv",
   "language": "python",
   "name": "python3"
  },
  "language_info": {
   "codemirror_mode": {
    "name": "ipython",
    "version": 3
   },
   "file_extension": ".py",
   "mimetype": "text/x-python",
   "name": "python",
   "nbconvert_exporter": "python",
   "pygments_lexer": "ipython3",
   "version": "3.12.11"
  }
 },
 "nbformat": 4,
 "nbformat_minor": 5
}
